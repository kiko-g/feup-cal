{
 "cells": [
  {
   "cell_type": "code",
   "execution_count": 9,
   "metadata": {},
   "outputs": [],
   "source": [
    "import sys\n",
    "import os\n",
    "import random\n",
    "\n",
    "nodes_list = []\n",
    "with open(\"nodes.txt\", \"r\") as f:\n",
    "\tf.readline()\n",
    "\tnodes_list = [line.rstrip('\\n').split(', ')[0][1:] for line in f]\n",
    "    \n",
    "# List of names\n",
    "names_list = [\"Son\",\"Man\",\"Brandon\",\"Fidel\",\"Jc\",\"Fabian\",\"Dannie\",\"Jerald\",\"Hal\",\"Doug\",\"Maynard\",\"Santos\",\"Rigoberto\",\"Franklyn\",\"Howard\",\"Dorian\",\"Edgardo\",\"Rogelio\",\"Everette\",\"Nicolas\",\"Johnie\",\"Jeffery\",\"Carlos\",\"Mickey\",\"Moises\",\"Brooks\",\"Jay\",\"Sean\",\"Antony\",\"Scottie\",\"Felton\",\"Alejandro\",\"Antonia\",\"Rudy\",\"Nathanael\",\"Rayford\",\"Curt\",\"Delmar\",\"William\",\"Denis\",\"Anton\",\"Antone\",\"Osvaldo\",\"Isaac\",\"Freeman\",\"Morton\",\"Manuel\",\"Samual\",\"Sterling\",\"Lewis\",\"Liane\",\"Alane\",\"Rima\",\"Magnolia\",\"Valencia\",\"An\",\"Vicenta\",\"Margene\",\"Gia\",\"Shery\",\"Saran\",\"Madge\",\"Raeann\",\"Buffy\",\"Thalia\",\"Hulda\",\"Yuki\",\"Lita\",\"Venice\",\"Easter\",\"Sonya\",\"Delois\",\"Cleora\",\"Sharri\",\"Genie\",\"Kyung\",\"Petronila\",\"Veta\",\"Shawana\",\"Adelia\",\"Karine\",\"Agnus\",\"Inell\",\"Ashton\",\"Marian\",\"Henriette\",\"Cecelia\",\"Tula\",\"Arlean\",\"Valarie\",\"Talitha\",\"Solange\",\"Ila\",\"Sara\",\"Marline\",\"Alexandria\",\"Gaynelle\",\"Patria\",\"Jaclyn\",\"Shauna\",\"Josue\",\"Yuk\",\"Evette\",\"Awilda\",\"Berry\",\"Linette\",\"Ralph\",\"Nathalie\",\"Antony\",\"Darci\",\"Rhiannon\",\"Rigoberto\",\"Chrystal\",\"Clarence\",\"Clora\",\"Genny\",\"Renea\",\"Maryam\",\"Justine\",\"Nada\",\"Denisse\",\"Matilda\",\"Johnnie\",\"Julee\",\"Harriette\",\"Carolann\",\"Sharell\",\"Bradley\",\"Olinda\",\"Leana\",\"Belva\",\"Jamila\",\"Anna\",\"Liane\",\"Flavia\",\"Deangelo\",\"Loriann\",\"Georgette\",\"Latisha\",\"Elias\",\"Danita\",\"Deborah\",\"Shirlene\",\"Simone\",\"Alissa\",\"Eleonor\",\"Ethan\",\"Elisabeth\",\"Carrie\",\"Debi\",\"Louann\",\"Carli\",\"Collin\",\"Scott\",\"Hubert\",\"Arcelia\",\"Janell\",\"Neal\",\"Ida\",\"Jazmine\",\"Liberty\",\"Geraldine\",\"Greg\",\"Clifford\",\"Edna\",\"Klara\",\"Janae\",\"Aisha\",\"Laraine\",\"Earnestine\",\"Christinia\",\"Ebonie\",\"Gerardo\",\"Genaro\",\"Luis\",\"Marcene\",\"Hoa\",\"Marg\",\"Era\",\"Virgie\",\"Karri\",\"Gilberte\",\"Floria\",\"Eda\",\"Emilio\",\"Jesica\",\"Creola\",\"Isadora\",\"Logan\",\"Moira\",\"Kenda\",\"Angelia\",\"Theodora\",\"Molly\",\"Alpha\",\"Rupert\",\"Tod\",\"Sherley\",\"Chadwick\",\"Na\"]\n",
    "\n",
    "output_filename = \"requests.txt\"\n",
    "\n",
    "# write reservations in format: name NIF node hour minute second passengers\n",
    "with open(\"requests.txt\", \"w\") as f:\n",
    "\tfor i in range(int(100)):\n",
    "\t\tname = random.choice(names_list)\n",
    "\t\tnode = random.choice(nodes_list)\n",
    "\t\tpriority = str(random.randint(1,2))\n",
    "\t\thour = str(random.randint(0, 23)).zfill(2)\n",
    "\t\tminute = str(random.randint(0, 59)).zfill(2)\n",
    "\t\tsecond = str(random.randint(0, 59)).zfill(2)\n",
    "\t\trequest = name + \" \" + node + \" \" + priority + \" \" + hour + \" \" + minute + \" \" + second + \"\\n\"\n",
    "\t\tf.write(request)"
   ]
  },
  {
   "cell_type": "code",
   "execution_count": null,
   "metadata": {},
   "outputs": [],
   "source": []
  },
  {
   "cell_type": "code",
   "execution_count": null,
   "metadata": {},
   "outputs": [],
   "source": []
  },
  {
   "cell_type": "code",
   "execution_count": null,
   "metadata": {},
   "outputs": [],
   "source": []
  }
 ],
 "metadata": {
  "kernelspec": {
   "display_name": "Python 3",
   "language": "python",
   "name": "python3"
  },
  "language_info": {
   "codemirror_mode": {
    "name": "ipython",
    "version": 3
   },
   "file_extension": ".py",
   "mimetype": "text/x-python",
   "name": "python",
   "nbconvert_exporter": "python",
   "pygments_lexer": "ipython3",
   "version": "3.7.3"
  }
 },
 "nbformat": 4,
 "nbformat_minor": 4
}
